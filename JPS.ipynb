{
 "cells": [
  {
   "cell_type": "markdown",
   "metadata": {
    "id": "f344109c"
   },
   "source": [
    "## JPS##\n",
    "\n",
    "\n"
   ]
  },
  {
   "cell_type": "markdown",
   "metadata": {
    "id": "0DSvJMSO6lEd"
   },
   "source": [
    "Relevant articles are:\n",
    "\n",
    "-https://www.researchgate.net/publication/333904146_Grid_Pathfinding_on_the_2_k_Neighborhoods\n",
    "\n",
    "-Canonical Orderings on Grids\n",
    "\n",
    "-https://www.researchgate.net/publication/221603063_Online_Graph_Pruning_for_Pathfinding_On_Grid_Maps?enrichId=rgreq-ba6335d1aeece8d092b236b991ab03d7-XXX&enrichSource=Y292ZXJQYWdlOzIyMTYwMzA2MztBUzoxMDQ3ODE2Nzg5MDczOTVAMTQwMTk5MzMwNzMxMA%3D%3D&el=1_x_3&_esc=publicationCoverPdf\n",
    "\n",
    "-More Canonical Ordering"
   ]
  },
  {
   "cell_type": "markdown",
   "metadata": {
    "id": "Me8Qk6W8RNjD"
   },
   "source": [
    "### Importing libraries"
   ]
  },
  {
   "cell_type": "code",
   "execution_count": 311,
   "metadata": {
    "id": "d22ca43f"
   },
   "outputs": [],
   "source": [
    "import random\n",
    "\n",
    "from PIL import Image, ImageDraw\n",
    "import numpy as np\n",
    "import matplotlib.pyplot as plt\n",
    "import math\n",
    "from random import randint, random, seed\n",
    "from heapq import heappop, heappush\n",
    "from time import sleep\n",
    "from math import hypot\n",
    "from math import copysign\n",
    "import heapq\n",
    "import copy"
   ]
  },
  {
   "cell_type": "markdown",
   "metadata": {
    "id": "cc8cb3b8"
   },
   "source": [
    "### Grid map representation \n",
    "\n",
    "Square grid map class represents the environment for our moving agent\n",
    "\n",
    "- width -- the number of columns in the grid\n",
    "- height -- the number of rows in the grid\n",
    "- cells -- the binary matrix, that represents the grid. 0 - cell is traversable, 1 - cell is blocked"
   ]
  },
  {
   "cell_type": "code",
   "execution_count": 312,
   "metadata": {
    "id": "3d28b7d9"
   },
   "outputs": [],
   "source": [
    "class Map:\n",
    "\n",
    "    def __init__(self):\n",
    "        \"\"\"\n",
    "        Default constructor\n",
    "        \"\"\"\n",
    "\n",
    "        self._width = 0\n",
    "        self._height = 0\n",
    "        self._cells = []\n",
    "\n",
    "    def read_from_string(self, cell_str, width, height):\n",
    "        \"\"\"\n",
    "        Converting a string (with '#' representing obstacles and '.' representing free cells) to a grid\n",
    "        \"\"\"\n",
    "        self._width = width\n",
    "        self._height = height\n",
    "        self._cells = [[0 for _ in range(width)] for _ in range(height)]\n",
    "        cell_lines = cell_str.split(\"\\n\")\n",
    "        i = 0\n",
    "        j = 0\n",
    "        for l in cell_lines:\n",
    "            if len(l) != 0:\n",
    "                j = 0\n",
    "                for c in l:\n",
    "                    if c == '.':\n",
    "                        self._cells[i][j] = 0\n",
    "                    elif c == '#':\n",
    "                        self._cells[i][j] = 1\n",
    "                    else:\n",
    "                        continue\n",
    "                    j += 1\n",
    "                if j != width:\n",
    "                    raise Exception(\"Size Error. Map width = \", j, \", but must be\", width)\n",
    "\n",
    "                i += 1\n",
    "\n",
    "        if i != height:\n",
    "            raise Exception(\"Size Error. Map height = \", i, \", but must be\", height)\n",
    "\n",
    "    def set_grid_cells(self, width, height, grid_cells):\n",
    "        \"\"\"\n",
    "        Initialization of map by list of cells.\n",
    "        \"\"\"\n",
    "        self._width = width\n",
    "        self._height = height\n",
    "        self._cells = grid_cells\n",
    "\n",
    "    def in_bounds(self, i, j):\n",
    "        \"\"\"\n",
    "        Check if the cell is on a grid.\n",
    "        \"\"\"\n",
    "        return (0 <= j < self._width) and (0 <= i < self._height)\n",
    "\n",
    "    def traversable(self, i, j):\n",
    "        \"\"\"\n",
    "        Check if the cell is not an obstacle.\n",
    "        \"\"\"\n",
    "        return not self._cells[i][j]\n",
    "\n",
    "    def is_obstacle(self, i, j):\n",
    "        if self.in_bounds(i,j):\n",
    "            if not self.traversable(i,j):\n",
    "                return True\n",
    "        return False\n",
    "    \n",
    "    def accessible(self, i, j):\n",
    "        return self.in_bounds(i,j) and self.traversable(i,j)\n",
    "\n",
    "    def check_move(self, i, j, d):\n",
    "        return self.accessible(i+d[0], j+d[1])\n",
    "\n",
    "        if d[0] == 0 or d[1] == 0:\n",
    "            return self.accessible(i+d[0], j+d[1])\n",
    "        else:\n",
    "            return self.in_bounds(i + d[0], j + d[1]) and self.traversable(i + d[0], j + d[1]) and self.traversable(i, j + d[1]) and self.traversable(i + d[0], j)\n",
    "\n",
    "    def get_neighbors(self, i, j):\n",
    "        \"\"\"\n",
    "        Get a list of neighbouring cells as (i,j) tuples.\n",
    "        It's assumed that grid is 8-connected (i.e. movements in cardinal and diagonal directions are allowed)\n",
    "        \"\"\"\n",
    "        neighbors = []\n",
    "        delta = [[0, 1], [1, 0], [0, -1], [-1, 0]]\n",
    "\n",
    "        for d in delta:\n",
    "            if self.in_bounds(i + d[0], j + d[1]) and self.traversable(i + d[0], j + d[1]):\n",
    "                neighbors.append((i + d[0], j + d[1]))\n",
    "                \n",
    "        delta = [[1, 1], [1, -1], [-1, -1], [-1, 1]]\n",
    "        for d in delta:\n",
    "            if self.in_bounds(i + d[0], j + d[1]) and self.traversable(i + d[0], j + d[1]): #and self.traversable(i, j + d[1]) and self.traversable(i + d[0], j):\n",
    "                neighbors.append((i + d[0], j + d[1]))\n",
    "\n",
    "        return neighbors\n",
    "\n",
    "    def get_size(self):\n",
    "        return self._height, self._width"
   ]
  },
  {
   "cell_type": "markdown",
   "metadata": {
    "id": "b1140557"
   },
   "source": [
    "### Search Node Representation\n"
   ]
  },
  {
   "cell_type": "code",
   "execution_count": 313,
   "metadata": {
    "id": "aaac4e55"
   },
   "outputs": [],
   "source": [
    "class Node:\n",
    "    \"\"\"\n",
    "    Node class represents a search node\n",
    "\n",
    "    - i, j: coordinates of corresponding grid element\n",
    "    - g: g-value of the node\n",
    "    - h: h-value of the node\n",
    "    - f: f-value of the node\n",
    "    - parent: pointer to the parent-node\n",
    "    - k: iteration of the algorithm when the node was visited for the first time. Required for correct breaking-ties\n",
    "    - g_is_true_cost: flag that shows whether the g-value wath precisely computed or just estimated\n",
    "    \n",
    "    You might want to add other fields, methods for Node, depending on how you prefer to implement OPEN/CLOSED further on\n",
    "    \"\"\"\n",
    "\n",
    "    def __init__(self, i, j, g=0, h=0, f=None, parent=None, k=0, g_is_true_cost = False):\n",
    "        self.i = i\n",
    "        self.j = j\n",
    "        self.g = g\n",
    "        self.h = h\n",
    "        self.k = k\n",
    "        self.g_is_true_cost = g_is_true_cost\n",
    "        self.prim = []\n",
    "        if f is None:\n",
    "            self.f = self.g + h\n",
    "        else:\n",
    "            self.f = f\n",
    "        self.parent = parent\n",
    "\n",
    "    def __eq__(self, other):\n",
    "        '''\n",
    "        Estimating where the two search nodes are the same,\n",
    "        which is needed to detect dublicates in the search tree.\n",
    "        '''\n",
    "        return (self.i == other.i) and (self.j == other.j)\n",
    "    \n",
    "    def __hash__(self):\n",
    "        '''\n",
    "        To implement CLOSED as set of nodes we need Node to be hashable.\n",
    "        '''\n",
    "        ij = self.i, self.j\n",
    "        return hash(ij)\n",
    "\n",
    "    def __repr__(self):\n",
    "        return f'({self.i}, {self.j}, g = {self.g}, f = {self.f})'\n",
    "        \n",
    "    def __lt__(self, other) -> object:\n",
    "        \"\"\"\n",
    "        Comparison between self and other. Returns is self < other (self has higher priority).\n",
    "        \"\"\"\n",
    "        return self.f < other.f or ((self.f == other.f) and (self.h < other.h)) \\\n",
    "               or ((self.f == other.f) and (self.h == other.h) and (self.k > other.k))"
   ]
  },
  {
   "cell_type": "code",
   "execution_count": 314,
   "metadata": {
    "id": "q0sWFbAWqUGy"
   },
   "outputs": [],
   "source": [
    "def compute_cost(i1, j1, i2, j2):\n",
    "    return hypot(i2-i1, j2-j1)"
   ]
  },
  {
   "cell_type": "markdown",
   "metadata": {
    "id": "89e84deb"
   },
   "source": [
    "### Visualization"
   ]
  },
  {
   "cell_type": "code",
   "execution_count": 315,
   "metadata": {
    "id": "tvx4Ye6xoe9P"
   },
   "outputs": [],
   "source": [
    "def draw_local_path(draw, node, k):\n",
    "    if node.parent is not None:\n",
    "        draw.line(((node.parent.j+0.5)*k, (node.parent.i+0.5)*k, (node.j+0.5)*k, (node.i+0.5)*k), fill = (0,0,0), width=2)\n",
    "        draw_local_path(draw, node.parent, k)\n",
    "    else:\n",
    "        return\n"
   ]
  },
  {
   "cell_type": "code",
   "execution_count": 316,
   "metadata": {
    "id": "74ca4d15"
   },
   "outputs": [],
   "source": [
    "def draw(grid_map, start=None, goal=None, path=None, nodes_opened=None, nodes_expanded=None, edges_evaluated=None):\n",
    "    '''\n",
    "    Auxiliary function that visualizes the enviromnet, the path and opened, expanded and reexpanded cells.\n",
    "    '''\n",
    "    k = 16\n",
    "    height, width = grid_map.get_size()\n",
    "    h_im = height * k\n",
    "    w_im = width * k\n",
    "    im = Image.new('RGB', (w_im, h_im), color='white')\n",
    "    draw = ImageDraw.Draw(im)\n",
    "\n",
    "    for i in range(height):\n",
    "        for j in range(width):\n",
    "            if (not grid_map.traversable(i, j)):\n",
    "                draw.rectangle((j * k, i * k, (j + 1) * k - 1, (i + 1) * k - 1), fill=(70, 80, 80))\n",
    "\n",
    "    if nodes_opened is not None:\n",
    "        for node in nodes_opened:\n",
    "            draw.rectangle((node.j * k, node.i * k, (node.j + 1) * k - 1, (node.i + 1) * k - 1), fill=(213, 219, 219), width=0)\n",
    "\n",
    "    if nodes_expanded is not None:\n",
    "        for node in nodes_expanded:\n",
    "            draw.rectangle((node.j * k, node.i * k, (node.j + 1) * k - 1, (node.i + 1) * k - 1), fill=(131, 145, 146), width=0)\n",
    "\n",
    "    if path is not None:\n",
    "        for step in path:\n",
    "            if (step is not None):\n",
    "                if (grid_map.traversable(step.i, step.j)):\n",
    "                    draw.rectangle((step.j * k, step.i * k, (step.j + 1) * k - 1, (step.i + 1) * k - 1), fill=(52, 152, 219), width=0)\n",
    "                else:\n",
    "                    draw.rectangle((step.j * k, step.i * k, (step.j + 1) * k - 1, (step.i + 1) * k - 1), fill=(230, 126, 34), width=0)\n",
    "\n",
    "    if (start is not None) and (grid_map.traversable(start.i, start.j)):\n",
    "        draw.rectangle((start.j * k, start.i * k, (start.j + 1) * k - 1, (start.i + 1) * k - 1), fill=(40, 180, 99), width=0)\n",
    "\n",
    "    if (goal is not None) and (grid_map.traversable(goal.i, goal.j)):\n",
    "        draw.rectangle((goal.j * k, goal.i * k, (goal.j + 1) * k - 1, (goal.i + 1) * k - 1), fill=(231, 76, 60), width=0)\n",
    "\n",
    "    #if nodes_opened is not None:\n",
    "    #    for node in nodes_opened:\n",
    "    #        draw_local_path(draw, node, k)\n",
    "\n",
    "    #if nodes_expanded is not None:\n",
    "    #    for node in nodes_expanded:\n",
    "    #        draw_local_path(draw, node, k)\n",
    "\n",
    "    if edges_evaluated is not None:\n",
    "        for edge in edges_evaluated.keys():\n",
    "            draw.line(((edge[1] + 0.5) * k, (edge[0] + 0.5) * k, (edge[3] + 0.5) * k, (edge[2] + 0.5) * k), fill=((0, 0, 0) if edges_evaluated[edge] else (200, 200, 200)), width=2)\n",
    "\n",
    "    _, ax = plt.subplots(dpi=150)\n",
    "    ax.axes.xaxis.set_visible(False)\n",
    "    ax.axes.yaxis.set_visible(False)\n",
    "    plt.imshow(np.asarray(im))\n",
    "    plt.show()\n"
   ]
  },
  {
   "cell_type": "markdown",
   "metadata": {
    "id": "DmYALMnpRAvH"
   },
   "source": [
    "### Implementing search tree"
   ]
  },
  {
   "cell_type": "code",
   "execution_count": 317,
   "metadata": {
    "id": "946f8abe"
   },
   "outputs": [],
   "source": [
    "class SearchTreePQS: #SearchTree which uses PriorityQueue for OPEN and set for CLOSED\n",
    "    def __init__(self):\n",
    "        self._closed = set() \n",
    "        self._open = []      \n",
    "        self._enc_open_dublicates = 0\n",
    "                \n",
    "    def __len__(self):\n",
    "        return len(self._open) + len(self._closed)\n",
    "\n",
    "    def clear(self):\n",
    "        self._closed.clear()\n",
    "        self._open.clear() \n",
    "        self._enc_open_dublicates = 0                 \n",
    "    '''\n",
    "    open_is_empty should inform whether the OPEN is exhausted or not.\n",
    "    In the former case the search main loop should be interrupted.\n",
    "    '''\n",
    "    def open_is_empty(self):\n",
    "        return len(self._open) == 0\n",
    "\n",
    "    '''\n",
    "    Adding a (previously not expanded) node to the search-tree (i.e. to OPEN).\n",
    "    It's either a totally new node (the one we never encountered before)\n",
    "    or it can be a dublicate of the node that currently resides in OPEN.\n",
    "    It's up to us how to handle dublicates in OPEN. We can either \n",
    "    detect dublicates upon adding (i.e. inside this method) or detect them\n",
    "    lazily, when we are extracting a node for further expansion.\n",
    "    Not detecting dublicates at all may work in certain setups but let's not\n",
    "    consider this option.\n",
    "    ''' \n",
    "\n",
    "    def add_to_open(self, item):\n",
    "        heappush(self._open, item)\n",
    "\n",
    "    def forced_add_to_open(self, item):\n",
    "        try:\n",
    "            idx = self._open.index(item)\n",
    "            del self._open[idx]\n",
    "            heapq.heapify(self._open)\n",
    "            heapq.heappush(self._open, item)\n",
    "            if self.was_expanded(item):\n",
    "                self._closed.remove(item)\n",
    "        except:\n",
    "            heapq.heappush(self._open, item)\n",
    "\n",
    "    '''\n",
    "    Extracting the best node (i.e. the one with the minimal key\n",
    "    = min f-value = min g-value (for Dijkstra)) from OPEN.\n",
    "    This node will be expanded further on in the main loop of the search.\n",
    "    ''' \n",
    "    def get_best_node_from_open(self):\n",
    "        best = heapq.heappop(self._open)\n",
    "        while self.was_expanded(best):\n",
    "            if self.open_is_empty():\n",
    "                return None\n",
    "\n",
    "            best = heapq.heappop(self._open)\n",
    "            self._enc_open_dublicates += 1\n",
    "            \n",
    "        return best\n",
    "\n",
    "    def add_to_closed(self, item):\n",
    "        self._closed.add(item)\n",
    "\n",
    "    def was_expanded(self, item):\n",
    "        return item in self._closed\n",
    "\n",
    "    def expanded(self):\n",
    "        return self._closed\n",
    "\n",
    "    def open(self):\n",
    "        return self._open\n",
    "\n",
    "    @property\n",
    "    def OPEN(self):\n",
    "        return self._open\n",
    "\n",
    "    @property\n",
    "    def CLOSED(self):\n",
    "        return list(self._closed)\n",
    "\n",
    "    @property\n",
    "    def number_of_open_dublicates(self):\n",
    "        return self._enc_open_dublicates\n"
   ]
  },
  {
   "cell_type": "markdown",
   "metadata": {
    "id": "7ea15559"
   },
   "source": [
    "### Validating the results"
   ]
  },
  {
   "cell_type": "code",
   "execution_count": 318,
   "metadata": {
    "id": "39841e48"
   },
   "outputs": [],
   "source": [
    "def make_path(goal):\n",
    "    '''\n",
    "    Creates a path by tracing parent pointers from the goal node to the start node\n",
    "    It also returns path's length.\n",
    "    '''\n",
    "\n",
    "    length = goal.g\n",
    "    current = goal\n",
    "    path = []\n",
    "    while current.parent:\n",
    "        path.append(current)\n",
    "        current = current.parent\n",
    "    path.append(current)\n",
    "    return path[::-1], length"
   ]
  },
  {
   "cell_type": "markdown",
   "metadata": {
    "id": "47d04ae6"
   },
   "source": [
    "`simple_test` tests the pathfing algorithm on a single simple instance. Returns same result as search function. Both tests assume that the search function fits the following pattern:\n",
    "\n",
    "`search(task_map, s.i, s.j, g.i, g.j, *optional arguments*) -> (path_found, last_state, expansions, transitions_computed, nodes_created, open, expanded, edges)`, where\n",
    "\n",
    "- `task_map` -- grid\n",
    "- `s.i, s.j` -- (i,j) coordinates of the start cell\n",
    "- `g.i, g.j` -- (i,j) coordinates of the goal cell\n",
    "- `*optional arguments*` -- additional parameters of the search function, passed with `*args`.\n",
    "\n",
    "- `path_found` -- `True` if path was found, `False` otherwise\n",
    "- `last_state` -- last state of the path. `None` if path was not found\n",
    "- `expansions` -- the number of the expanded nodes\n",
    "- `transitions_computed` -- the number of the transitions that were precisely computed (i.e. the numeber of the edges evalations)\n",
    "- `nodes_created` -- the number of nodes, which were created and stored during the search process (size of the resultant search tree) \n",
    "- `open` -- iterable collection of OPEN nodes\n",
    "- `expanded` --  iterable collection of the expanded nodes (if no re-expansions happening, this is CLOSED)\n",
    "- `edges` -- dictionary of edges. Each entry says whether the corresponding transition was precisely computed or just estimated. Optional parameter to compare A* with LazyA*. Keys of dictionary should be the coordinates of the corresponding nodes - (i1,j1,i2,j2), values - True if the corresponding transition was precisely computed or False if it was only estimated.   \n"
   ]
  },
  {
   "cell_type": "code",
   "execution_count": 319,
   "metadata": {
    "id": "f857a99f"
   },
   "outputs": [],
   "source": [
    "def simple_test(search_func, task, *args):\n",
    "    \"\"\"\n",
    "    simple_test runs search_func on one task (use a number from 0 to 25 to choose a certain debug task on simple map or None to choose a random task from this pool) with *args as optional arguments and displays:\n",
    "     - 'Path found!' and some statistics -- path was found\n",
    "     - 'Path not found!' -- path was not found\n",
    "     - 'Execution error' -- an error occurred while executing the SearchFunction In first two cases function also draws visualisation of the task\n",
    "    \"\"\"\n",
    "\n",
    "    height = 15\n",
    "    width = 30\n",
    "    map_str = '''\n",
    ". . . . . . . . . . . . . . . . . . . . . # # . . . . . . .  \n",
    ". . . . . . . . . . . . . . . . . . . . . # # . . . . . . . \n",
    ". . . . . . . . . . . . . . . . . . . . . # # . . . . . . . \n",
    ". . . # # . . . . . . . . . . . . . . . . # # . . . . . . . \n",
    ". . . # # . . . . . . . . # # . . . . . . # # . . . . . . . \n",
    ". . . # # . . . . . . . . # # . . . . . . # # # # # . . . . \n",
    ". . . # # . . . . . . . . # # . . . . . . # # # # # . . . . \n",
    ". . . # # . . . . . . . . # # . . . . . . . . . . . . . . . \n",
    ". . . # # . . . . . . . . # # . . . . . . . . . . . . . . . \n",
    ". . . # # . . . . . . . . # # . . . . . . . . . . . . . . . \n",
    ". . . # # . . . . . . . . # # . . . . . . . . . . . . . . .  \n",
    ". . . # # . . . . . . . . # # . . . . . . . . . . . . . . . \n",
    ". . . . . . . . . . . . . # # . . . . . . . . . . . . . . . \n",
    ". . . . . . . . . . . . . # # . . . . . . . . . . . . . . .\n",
    ". . . . . . . . . . . . . # # . . . . . . . . . . . . . . .\n",
    "'''\n",
    "\n",
    "    task_map = Map()\n",
    "    task_map.read_from_string(map_str, width, height)\n",
    "    starts = [(9, 0), (13, 0), (7, 28), (14, 29), (4, 1), (0, 17), (5, 6), (5, 20), (12, 2), (7, 28), (11, 9), (3, 2), (3, 17), (13, 20), (1, 1), (9, 10), (14, 6), (2, 0), (9, 28), (8, 6), (11, 6), (3, 0), (8, 9), (14, 7), (12, 4), (5, 6)]\n",
    "    goals = [(11, 20), (2, 19), (6, 5), (4, 18), (9, 20), (7, 0), (2, 25), (12, 4), (3, 25), (0, 12), (4, 23), (2, 24), (9, 2), (1, 6), (13, 29), (14, 29), (2, 28), (14, 16), (13, 0), (1, 27), (14, 25), (10, 20), (12, 28), (2, 29), (1, 29), (6, 6)]\n",
    "    lengths = [40.848, 30.013, 35.294, 20.632, 34.069, 29.416, 38.448, 26.402, 44.959, 24.66, 40.665, 46.738, 29.128, 29.392, 44.189, 37.545, 44.753, 36.602, 44.814, 38.745, 36.396, 34.936, 33.12, 44.632, 44.859, 2]\n",
    "\n",
    "    if (task is None) or not (0 <= task < 26):\n",
    "        task = randint(0, 24)\n",
    "\n",
    "    start = Node(*starts[task])\n",
    "    goal = Node(*goals[task])\n",
    "    length = lengths[task]\n",
    "    result = search_func(task_map, start.i, start.j, goal.i, goal.j, *args)\n",
    "    try:\n",
    "        result = search_func(task_map, start.i, start.j, goal.i, goal.j, *args)\n",
    "        expansions = result[2]\n",
    "        transitions_computed = result[3]\n",
    "        nodes_created = result[4]\n",
    "        if result[0]:\n",
    "            path = make_path(result[1])\n",
    "            correct = abs(float(path[1]) - float(length)) < 0.01\n",
    "            draw(task_map, start, goal, path[0], *result[5:])\n",
    "            print(f\"Path found! Length: {round(path[1],3)}. Nodes created: {nodes_created}. Number of expansions: {expansions}. Transitions computed: {transitions_computed}. Correct: {correct}\")\n",
    "        else:\n",
    "            path = [[start]]\n",
    "            draw(task_map, start, goal, path[0], *result[5:])\n",
    "            print(\"Path not found!\")\n",
    "        return result\n",
    "\n",
    "    except Exception as e:\n",
    "        print(\"Execution error\")\n",
    "        print(e)"
   ]
  },
  {
   "cell_type": "code",
   "execution_count": 320,
   "metadata": {
    "id": "BMHaFclQoOxz"
   },
   "outputs": [],
   "source": [
    "def read_task_from_file(path):\n",
    "    '''\n",
    "    Reads map, start/goal positions and true value of path length between given start and goal from file by path. \n",
    "    '''\n",
    "\n",
    "    tasks_file = open(path)\n",
    "    height = int(tasks_file.readline())\n",
    "    width = int(tasks_file.readline())\n",
    "    cells = [[0 for _ in range(width)] for _ in range(height)]\n",
    "    i = 0\n",
    "    j = 0\n",
    "\n",
    "    for l in tasks_file:\n",
    "        j = 0\n",
    "        for c in l:\n",
    "            if c == '.':\n",
    "                cells[i][j] = 0\n",
    "            elif c == '#':\n",
    "                cells[i][j] = 1\n",
    "            else:\n",
    "                continue\n",
    "            j += 1\n",
    "            \n",
    "        if j != width:\n",
    "            raise Exception(\"Size Error. Map width = \", j, \", but must be\", width, \"(map line: \", i, \")\")\n",
    "                \n",
    "        i += 1\n",
    "        if(i == height):\n",
    "            break\n",
    "    \n",
    "    start_i = int(tasks_file.readline())\n",
    "    start_j = int(tasks_file.readline())\n",
    "    goal_i = int(tasks_file.readline())\n",
    "    goal_j = int(tasks_file.readline())\n",
    "    length = float(tasks_file.readline())\n",
    "    return (width, height, cells, start_i, start_j, goal_i, goal_j, length)\n"
   ]
  },
  {
   "cell_type": "code",
   "execution_count": 321,
   "metadata": {
    "id": "CF__wA7K6Ew1"
   },
   "outputs": [],
   "source": [
    "def gen_random_tasks(grid_map, N = 10):\n",
    "    \n",
    "    def check_task(grid_map, start_i, start_j, goal_i, goal_j):\n",
    "        return grid_map.accessible(start_i, start_j) and grid_map.accessible(goal_i, goal_j) \n",
    "        \n",
    "    height = grid_map._height\n",
    "    width = grid_map._width\n",
    "    start_i = start_j = goal_i = goal_j = -1\n",
    "    for n in range(N):\n",
    "        while not check_task(grid_map, start_i, start_j, goal_i, goal_j):\n",
    "            start_i = int(random.random() * height * 1/2)\n",
    "            start_j = int(random.random() * width * 1/2)\n",
    "            start_i = int(height * 1/2) + int(random.random() * height * 1/2)\n",
    "            start_j = int(width * 1/2) + int(random.random() * width * 1/2)\n",
    "        yield start_i, start_j, goal_i, goal_j"
   ]
  },
  {
   "cell_type": "code",
   "execution_count": 322,
   "metadata": {
    "id": "szzEs8dooQDf"
   },
   "outputs": [],
   "source": [
    "def massive_test(search_func, data_path, num_of_tasks=None, *args):\n",
    "    '''\n",
    "    massive_test runs search_func on set of differnt tasks (from directory data/) \n",
    "    with *args as optional arguments and \n",
    "    for every task displays the short report:\n",
    "     - 'Path found!' and some statistics -- path was found\n",
    "     - 'Path not found!' -- path was not found\n",
    "     - 'Execution error' -- an error occurred while executing the SearchFunction In first two cases function also draws visualisation of the task.\n",
    "    \n",
    "    the function also returns a dictionary with statistics. \n",
    "    It contains the next fields:\n",
    "     - \"corr\" -- the correctness of every path length (True/False)\n",
    "     - \"len\" -- the length of every path (0.0 if path not found)\n",
    "     - \"nc\" -- the number of created nodes for every task execution\n",
    "     - \"st\" -- the number of steps of algorithm for every task execution\n",
    "    '''\n",
    "    \n",
    "    stat = dict()\n",
    "    stat[\"corr\"] = []\n",
    "    stat[\"len\"] = []\n",
    "    stat[\"nc\"] = []\n",
    "    stat[\"st\"] = []\n",
    "    \n",
    "    if (num_of_tasks is None) or (num_of_tasks<=0):\n",
    "        print(\"Incorrect number of tasks. Testing halted!\")\n",
    "        return stat\n",
    "    \n",
    "    task_num = num_of_tasks\n",
    "    task_map = Map()\n",
    "    for task_count in range(task_num):\n",
    "        task_file_name = data_path + str(task_count) + \".map\"\n",
    "        width, height, cells, start_i, start_j, goal_i, goal_j, length = read_task_from_file(task_file_name)\n",
    "        task_map.set_grid_cells(width, height, cells)\n",
    "        try:\n",
    "            result = search_func(task_map, start_i, start_j, goal_i, goal_j, *args)\n",
    "            number_of_steps = result[2]\n",
    "            nodes_created = result[3]\n",
    "            if result[0]:\n",
    "                path = make_path(result[1]) \n",
    "                stat[\"len\"].append(path[1])\n",
    "                correct = int(path[1])  == int(length)\n",
    "                stat[\"corr\"].append(correct)\n",
    "\n",
    "                print(\"Path found! Length: \" + str(path[1]) +\\\n",
    "                    \". Nodes created: \" + str(nodes_created) + \\\n",
    "                    \". Number of steps: \" + str(number_of_steps) + \\\n",
    "                    \". Correct: \" + str(correct))\n",
    "            else:\n",
    "                print(\"Path not found!\")\n",
    "                stat[\"corr\"].append(False)\n",
    "                stat[\"len\"].append(0.0)\n",
    "\n",
    "            stat[\"nc\"].append(nodes_created)\n",
    "            stat[\"st\"].append(number_of_steps)\n",
    "\n",
    "        except Exception as e:\n",
    "            print(\"Execution error\")\n",
    "            print(e)\n",
    "\n",
    "    return stat\n"
   ]
  },
  {
   "cell_type": "code",
   "execution_count": 323,
   "metadata": {
    "id": "ZxgUvY8H736n"
   },
   "outputs": [],
   "source": [
    "def massive_test_random(search_func, data_path, num_of_tasks=None, *args):\n",
    "    '''\n",
    "    massive_test runs search_func on set of differnt tasks (from directory data/) \n",
    "    with *args as optional arguments and \n",
    "    for every task displays the short report:\n",
    "     - 'Path found!' and some statistics -- path was found\n",
    "     - 'Path not found!' -- path was not found\n",
    "     - 'Execution error' -- an error occurred while executing the SearchFunction In first two cases function also draws visualisation of the task.\n",
    "    \n",
    "    the function also returns a dictionary with statistics. \n",
    "    It contains the next fields:\n",
    "     - \"corr\" -- the correctness of every path length (True/False)\n",
    "     - \"len\" -- the length of every path (0.0 if path not found)\n",
    "     - \"nc\" -- the number of created nodes for every task execution\n",
    "     - \"st\" -- the number of steps of algorithm for every task execution\n",
    "    '''\n",
    "    \n",
    "    stat = dict()\n",
    "    stat[\"corr\"] = []\n",
    "    stat[\"len\"] = []\n",
    "    stat[\"nc\"] = []\n",
    "    stat[\"st\"] = []\n",
    "    \n",
    "    if (num_of_tasks is None) or (num_of_tasks<=0):\n",
    "        print(\"Incorrect number of tasks. Testing halted!\")\n",
    "        return stat\n",
    "    \n",
    "    task_num = num_of_tasks\n",
    "    task_map = Map()\n",
    "    for task_count in range(task_num):\n",
    "        task_file_name = data_path + str(task_count) + \".map\"\n",
    "        width, height, cells, start_i, start_j, goal_i, goal_j, length = read_task_from_file(task_file_name)\n",
    "        task_map.set_grid_cells(width, height, cells)\n",
    "        try:\n",
    "            result = search_func(task_map, start_i, start_j, goal_i, goal_j, *args)\n",
    "            number_of_steps = result[2]\n",
    "            nodes_created = result[3]\n",
    "            if result[0]:\n",
    "                path = make_path(result[1]) \n",
    "                stat[\"len\"].append(path[1])\n",
    "                correct = int(path[1])  == int(length)\n",
    "                stat[\"corr\"].append(correct)\n",
    "\n",
    "                print(\"Path found! Length: \" + str(path[1]) +\\\n",
    "                    \". Nodes created: \" + str(nodes_created) + \\\n",
    "                    \". Number of steps: \" + str(number_of_steps) + \\\n",
    "                    \". Correct: \" + str(correct))\n",
    "            else:\n",
    "                print(\"Path not found!\")\n",
    "                stat[\"corr\"].append(False)\n",
    "                stat[\"len\"].append(0.0)\n",
    "\n",
    "            stat[\"nc\"].append(nodes_created)\n",
    "            stat[\"st\"].append(number_of_steps)\n",
    "\n",
    "        except Exception as e:\n",
    "            print(\"Execution error\")\n",
    "            print(e)\n",
    "\n",
    "    return stat\n"
   ]
  },
  {
   "cell_type": "markdown",
   "metadata": {
    "id": "o9G27COgs3q_"
   },
   "source": [
    "### Tools"
   ]
  },
  {
   "cell_type": "code",
   "execution_count": 324,
   "metadata": {
    "id": "3f92fbb8"
   },
   "outputs": [],
   "source": [
    "def diagonal_distance(i1, j1, i2, j2):\n",
    "    \"\"\"\n",
    "    Function to compute heuristic function for the case of 8-connected grids using diagonal(octile) distance\n",
    "    \"\"\"\n",
    "    di = abs(i1-i1)\n",
    "    dj = abs(j1-j2)\n",
    "    return min(di, dj)*(math.sqrt(2)-1) + max(di,dj)\n",
    "\n",
    "def euclidean_distance(i1, j1, i2, j2):\n",
    "    return hypot(i1-i2, j1-j2)"
   ]
  },
  {
   "cell_type": "code",
   "execution_count": 325,
   "metadata": {
    "id": "ge6KuSgRuAiS"
   },
   "outputs": [],
   "source": [
    "from math import copysign\n",
    "\n",
    "moves = [[0, -1], [0, 1], [-1, -1], [-1, 1], [1, -1], [1, 1], [-1, 0], [1, 0]]\n",
    "\n",
    "def isDiagonal(d):\n",
    "        return d[0] != 0 and d[1] != 0\n",
    "        \n",
    "def isCanonical(d_p, d):\n",
    "    if d_p == d:\n",
    "        return True\n",
    "    elif d_p[0] == -d[0] and d_p[1] == -d[1]:\n",
    "        return False\n",
    "    \n",
    "    if isDiagonal(d_p):\n",
    "        if isDiagonal(d):\n",
    "            return False\n",
    "        else:\n",
    "            return d[0] == d_p[0] or d[1] == d_p[1]\n",
    "    else:\n",
    "        return d[0] == d_p[0] and d[1] == d_p[1]\n",
    "\n",
    "def hasForced(p, x, grid_map):\n",
    "    d_p_i = 0 if x[0] - p[0] == 0 else int(copysign(1, x[0] - p[0]))\n",
    "    d_p_j = 0 if x[1] - p[1] == 0 else int(copysign(1, x[1] - p[1]))\n",
    "    d_p = [d_p_i, d_p_j]\n",
    "\n",
    "    if isDiagonal(d_p):\n",
    "        if grid_map.is_obstacle(x[0] - d_p[0], x[1]):\n",
    "            return grid_map.check_move(x[0], x[1], [-d_p[0], d_p[1]])\n",
    "            # return grid_map.accessible(x[0]-d_p[0], x[1] + d_p[1])\n",
    "        if grid_map.is_obstacle(x[0], x[1] - d_p[1]):\n",
    "            return grid_map.check_move(x[0], x[1], [d_p[0], -d_p[1]])\n",
    "            # return grid_map.accessible(x[0] + d_p[0], x[1]-d_p[1])\n",
    "    else:\n",
    "        if grid_map.is_obstacle(x[0] + d_p[1], x[1] + d_p[0]):\n",
    "            return grid_map.check_move(x[0], x[1], [d_p[0] + d_p[1],d_p[1] + d_p[0]])\n",
    "            # return grid_map.accessible(x[0] + d_p[0] + d_p[1], x[1] + d_p[1] + d_p[0])\n",
    "        if grid_map.is_obstacle(x[0] - d_p[1], x[1] - d_p[0]):\n",
    "            return grid_map.check_move(x[0], x[1], [d_p[0] - d_p[1],d_p[1] - d_p[0]])\n",
    "            # return grid_map.accessible(x[0] + d_p[0] - d_p[1], x[1] + d_p[1] - d_p[0])\n",
    "    return False\n",
    "\n",
    "def step(x, d):\n",
    "    return [x[0] + d[0], x[1] + d[1]]\n",
    "\n",
    "def jump(x, d, g, grid_map, bound, steps = 0):\n",
    "    n = step(x,d)\n",
    "    nbrs = [None]\n",
    "    if not grid_map.check_move(x[0], x[1], d):\n",
    "        return [None]\n",
    "    if n == g:\n",
    "        return [n]\n",
    "    if hasForced(x, n, grid_map):\n",
    "        return [n]\n",
    "    if isDiagonal(d):\n",
    "        if bound > 0:\n",
    "            steps += 1\n",
    "        if steps == bound:\n",
    "            return [n]\n",
    "        else:\n",
    "            if jump(n, [d[0], 0], g, grid_map, bound, steps) is not None:\n",
    "                nbrs.append(n)\n",
    "            if jump(n, [0, d[1]], g, grid_map, bound, steps) is not None:\n",
    "                nbrs.append(n)\n",
    "            return nbrs\n",
    "\n",
    "\n",
    "    if bound > 0:\n",
    "            steps += 1\n",
    "    if steps == bound:\n",
    "            return [n]\n",
    "    else:\n",
    "        return jump(n, d, g, grid_map, bound, steps)\n",
    "\n",
    "\n",
    "def prune(x, grid_map):\n",
    "    p = x.parent\n",
    "    if p is None:\n",
    "        return grid_map.get_neighbors(x.i, x.j)\n",
    "\n",
    "    neighbors = []\n",
    "    d_p_i = 0 if x.i - p.i == 0 else int(copysign(1, x.i - p.i))\n",
    "    d_p_j = 0 if x.j - p.j == 0 else int(copysign(1, x.j - p.j))\n",
    "    d_p = [d_p_i, d_p_j]\n",
    "    for mv in moves:\n",
    "        if isCanonical(d_p, mv):\n",
    "            neighbors.append([x.i + mv[0], x.j + mv[1]])\n",
    "\n",
    "    if isDiagonal(d_p):\n",
    "        if grid_map.is_obstacle(x.i - d_p[0], x.j):\n",
    "            neighbors.append([x.i-d_p[0], x.j + d_p[1]])\n",
    "        if grid_map.is_obstacle(x.i, x.j - d_p[1]):\n",
    "            neighbors.append([x.i + d_p[0], x.j-d_p[1]])\n",
    "    else:\n",
    "        if grid_map.is_obstacle(x.i + d_p[1], x.j + d_p[0]):\n",
    "            neighbors.append([x.i + d_p[0] + d_p[1], x.j + d_p[1] + d_p[0]])\n",
    "        if grid_map.is_obstacle(x.i - d_p[1], x.j - d_p[0]):\n",
    "            neighbors.append([x.i + d_p[0] - d_p[1], x.j + d_p[1] - d_p[0]])\n",
    "    return neighbors\n",
    "\n",
    "def jps_successors(x, g, grid_map, bound):\n",
    "    successors = []\n",
    "    neighbors = prune(x, grid_map)\n",
    "    for n in neighbors:\n",
    "        for node in jump([x.i, x.j], [n[0] - x.i, n[1] - x.j], g, grid_map, bound):\n",
    "            if node is not None:\n",
    "                successors.append(node)\n",
    "    return successors"
   ]
  },
  {
   "cell_type": "markdown",
   "metadata": {
    "id": "gkLlwff9qfDE"
   },
   "source": [
    "### Algorihms"
   ]
  },
  {
   "cell_type": "markdown",
   "metadata": {
    "id": "5cc5a29d"
   },
   "source": [
    "`astar(task_map, s.i, s.j, g.i, g.j, *optional arguments*) -> (path_found, last_state, expansions, transitions_computed, nodes_created, open, expanded, edges)`, where\n",
    "\n",
    "- `task_map` -- grid\n",
    "- `s.i, s.j` -- (i,j) coordinates of the start cell\n",
    "- `g.i, g.j` -- (i,j) coordinates of the goal cell\n",
    "- `*optional arguments*` -- additional parameters of the search function, passed with `*args` (heuristic function, search tree data structure)\n",
    "\n",
    "- `path_found` -- `True` if path was found, `False` otherwise\n",
    "- `last_state` -- last state of the path. `None` if path was not found\n",
    "- `expansions` -- the number of the expanded nodes\n",
    "- `transitions_computed` -- the number of the transitions that were precisely computed (i.e. the numeber of the edges evalations)\n",
    "\n",
    "- `nodes_created` -- the number of nodes, which were created and stored during the search process (size of the resultant search tree) \n",
    "- `open` -- iterable collection of OPEN nodes\n",
    "- `expanded` --  iterable collection of the expanded nodes (if no re-expansions happening, this is CLOSED)\n",
    "\n",
    "- `edges` -- dictionary of edges. Each entry says whether the corresponding transition was precisely computed or just estimated. Optional parameter to compare A* with LazyA*. Keys of dictionary should be the coordinates of the corresponding nodes - (i1,j1,i2,j2), values - True if the corresponding transition was precisely computed or False if it was only estimated."
   ]
  },
  {
   "cell_type": "code",
   "execution_count": 326,
   "metadata": {
    "id": "_H39HM8nPOUq"
   },
   "outputs": [],
   "source": [
    "def astar(grid_map, start_i, start_j, goal_i, goal_j, heuristic_func = None, search_tree = None):\n",
    "    ast = search_tree()\n",
    "    steps = 0\n",
    "    nodes_created = 0\n",
    "    expansions = 0\n",
    "    transitions_computed = 0\n",
    "    \n",
    "    EDGES = dict()\n",
    "    \n",
    "    start = Node(start_i, start_j, g=0, h=heuristic_func(start_i, start_j, goal_i, goal_j), k=steps)\n",
    "    goal = Node(goal_i, goal_j, g=10e9, h = 0, k = 10e9)\n",
    "    ast.add_to_open(start)\n",
    "    while not ast.open_is_empty():\n",
    "        steps += 1\n",
    "        curNode = ast.get_best_node_from_open()\n",
    "        if curNode == goal:\n",
    "            nodes_created = len(ast)\n",
    "            CLOSED = ast.expanded()\n",
    "            expansions = len(CLOSED)\n",
    "            OPEN = ast.open()\n",
    "            return True, curNode, expansions, transitions_computed, nodes_created, OPEN, CLOSED, EDGES\n",
    "        neighbors = grid_map.get_neighbors(curNode.i, curNode.j)\n",
    "        for node in neighbors:\n",
    "            newNode = Node(i = node[0], j = node[1])\n",
    "            if not ast.was_expanded(newNode):\n",
    "                newNode.g = curNode.g + compute_cost(curNode.i, curNode.j, newNode.i, newNode.j)\n",
    "                transitions_computed += 1\n",
    "                EDGES[(curNode.i, curNode.j, newNode.i, newNode.j)] = True\n",
    "                newNode.h = heuristic_func(newNode.i, newNode.j, goal_i, goal_j)            \n",
    "                newNode.f = newNode.g + newNode.h\n",
    "                newNode.parent = curNode\n",
    "                newNode.k = steps\n",
    "                ast.add_to_open(newNode)\n",
    "        ast.add_to_closed(curNode)\n",
    "\n",
    "    CLOSED = ast.expanded()\n",
    "    nodes_created = len(ast)\n",
    "    return False, None, expansions, transitions_computed, nodes_created, None, CLOSED, EDGES"
   ]
  },
  {
   "cell_type": "code",
   "execution_count": 327,
   "metadata": {
    "id": "ruU6MAdFeNen"
   },
   "outputs": [],
   "source": [
    "def jps(grid_map, start_i, start_j, goal_i, goal_j, heuristic_func = None, search_tree = None, bound = -1):\n",
    "    ast = search_tree()\n",
    "    steps = 0\n",
    "    nodes_created = 0\n",
    "    expansions = 0\n",
    "    transitions_computed = 0\n",
    "    \n",
    "    EDGES = dict()\n",
    "    \n",
    "    start = Node(start_i, start_j, g=0, h=heuristic_func(start_i, start_j, goal_i, goal_j), k=steps)\n",
    "    goal = Node(goal_i, goal_j, g=10e9, h = 0, k = 10e9)\n",
    "    ast.add_to_open(start)\n",
    "    while not ast.open_is_empty():\n",
    "        steps += 1\n",
    "        curNode = ast.get_best_node_from_open()\n",
    "        if curNode == goal:\n",
    "            nodes_created = len(ast)\n",
    "            CLOSED = ast.expanded()\n",
    "            expansions = len(CLOSED)\n",
    "            OPEN = ast.open()\n",
    "            EDGES[(curNode.i, curNode.j, curNode.parent.i, curNode.parent.j)] = True\n",
    "            return True, curNode, expansions, transitions_computed, nodes_created, OPEN, CLOSED, EDGES\n",
    "        neighbors = jps_successors(curNode, [goal_i, goal_j], grid_map, bound)\n",
    "        for node in neighbors:\n",
    "            newNode = Node(i = node[0], j = node[1])\n",
    "            if not ast.was_expanded(newNode):\n",
    "                newNode.g = curNode.g + compute_cost(curNode.i, curNode.j, newNode.i, newNode.j)\n",
    "                transitions_computed += 1\n",
    "                EDGES[(curNode.i, curNode.j, newNode.i, newNode.j)] = True\n",
    "                newNode.h = heuristic_func(newNode.i, newNode.j, goal_i, goal_j)            \n",
    "                newNode.f = newNode.g + newNode.h\n",
    "                newNode.parent = curNode\n",
    "                newNode.k = steps\n",
    "                ast.add_to_open(newNode)\n",
    "        ast.add_to_closed(curNode)\n",
    "\n",
    "    CLOSED = ast.expanded()\n",
    "    nodes_created = len(ast)\n",
    "    return False, None, expansions, transitions_computed, nodes_created, None, CLOSED, EDGES"
   ]
  },
  {
   "cell_type": "markdown",
   "metadata": {
    "id": "0af1eafa"
   },
   "source": [
    "### Testing"
   ]
  },
  {
   "cell_type": "code",
   "execution_count": 335,
   "metadata": {
    "colab": {
     "base_uri": "https://localhost:8080/",
     "height": 455
    },
    "id": "8a8b1e47",
    "outputId": "63f7e605-caa5-4ab3-9dd8-7ba6e4122ed4"
   },
   "outputs": [
    {
     "data": {
      "image/png": "[encoded data removed]",
      "text/plain": [
       "<Figure size 900x600 with 1 Axes>"
      ]
     },
     "metadata": {
      "needs_background": "light"
     },
     "output_type": "display_data"
    },
    {
     "name": "stdout",
     "output_type": "stream",
     "text": [
      "Path found! Length: 22.728. Nodes created: 26. Number of expansions: 21. Transitions computed: 44. Correct: False\n",
      "CPU times: user 127 ms, sys: 8.67 ms, total: 135 ms\n",
      "Wall time: 136 ms\n"
     ]
    }
   ],
   "source": [
    "%time res = simple_test(jps, 4, diagonal_distance, SearchTreePQS, -1)"
   ]
  },
  {
   "cell_type": "code",
   "execution_count": 329,
   "metadata": {
    "colab": {
     "base_uri": "https://localhost:8080/",
     "height": 455
    },
    "id": "cb26e33b",
    "outputId": "de745706-91da-49cb-f21f-240ea3f2a1fd"
   },
   "outputs": [
    {
     "data": {
      "image/png": "[encoded data removed]",
      "text/plain": [
       "<Figure size 900x600 with 1 Axes>"
      ]
     },
     "metadata": {
      "needs_background": "light"
     },
     "output_type": "display_data"
    },
    {
     "name": "stdout",
     "output_type": "stream",
     "text": [
      "Path found! Length: 15.142. Nodes created: 200. Number of expansions: 97. Transitions computed: 381. Correct: False\n",
      "CPU times: user 118 ms, sys: 10.9 ms, total: 129 ms\n",
      "Wall time: 131 ms\n"
     ]
    }
   ],
   "source": [
    "%time res = simple_test(astar, 3, diagonal_distance, SearchTreePQS)"
   ]
  },
  {
   "cell_type": "code",
   "execution_count": null,
   "metadata": {},
   "outputs": [],
   "source": []
  }
 ],
 "metadata": {
  "colab": {
   "collapsed_sections": [
    "b1140557",
    "89e84deb",
    "DmYALMnpRAvH",
    "7ea15559"
   ],
   "name": "JPS.ipynb",
   "provenance": []
  },
  "kernelspec": {
   "display_name": "Python 3",
   "language": "python",
   "name": "python3"
  },
  "language_info": {
   "codemirror_mode": {
    "name": "ipython",
    "version": 3
   },
   "file_extension": ".py",
   "mimetype": "text/x-python",
   "name": "python",
   "nbconvert_exporter": "python",
   "pygments_lexer": "ipython3",
   "version": "3.7.6"
  }
 },
 "nbformat": 4,
 "nbformat_minor": 5
}
